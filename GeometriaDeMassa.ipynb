{
 "cells": [
  {
   "cell_type": "code",
   "execution_count": 1,
   "id": "3291256a",
   "metadata": {},
   "outputs": [
    {
     "name": "stdout",
     "output_type": "stream",
     "text": [
      "Coordenada em x da região 1:  5.0 [mm]\n",
      "Coordenada em y da região 1:  2.1220659078919377 [mm]\n",
      "Área da região 1: -39.269908169872416 [mm^2]\n",
      "X1A1:  -196.34954084936209 [mm^3]\n",
      "Y1A1:  -83.33333333333333 [mm^3]\n"
     ]
    }
   ],
   "source": [
    "#Região 1 (Semicirculo)- área substrativa\n",
    "import math\n",
    "math.pi\n",
    "\n",
    "r=5\n",
    "\n",
    "X1 = 10/2\n",
    "print ('Coordenada em x da região 1: ', X1, '[mm]')\n",
    "Y1 = 4*r/(3*math.pi)\n",
    "print ('Coordenada em y da região 1: ', Y1, '[mm]')\n",
    "area1= -(math.pi * r**2 /2)\n",
    "print ('Área da região 1:', area1, '[mm^2]')\n",
    "X1A1= X1* area1\n",
    "print ('X1A1: ', X1A1, '[mm^3]')\n",
    "Y1A1= Y1* area1\n",
    "print ('Y1A1: ', Y1A1, '[mm^3]')"
   ]
  },
  {
   "cell_type": "code",
   "execution_count": 2,
   "id": "ba3b85f1",
   "metadata": {},
   "outputs": [
    {
     "name": "stdout",
     "output_type": "stream",
     "text": [
      "Coordenada em x da região 2:  5.0 [mm]\n",
      "Coordenada em y da região 2:  12.5 [mm]\n",
      "Área da região 2: -19.634954084936208 [mm^2]\n",
      "X2A2:  -98.17477042468104 [mm^3]\n",
      "Y2A2:  -245.4369260617026 [mm^3]\n"
     ]
    }
   ],
   "source": [
    "#Região 2 (Círculo)- área substrativa\n",
    "\n",
    "r1=2.5\n",
    "\n",
    "X2 = 10/2\n",
    "print ('Coordenada em x da região 2: ', X2, '[mm]')\n",
    "Y2 = 10+2.5\n",
    "print ('Coordenada em y da região 2: ', Y2, '[mm]')\n",
    "area2= -(math.pi * r1**2)\n",
    "print ('Área da região 2:', area2, '[mm^2]')\n",
    "X2A2= X2* area2\n",
    "print ('X2A2: ', X2A2, '[mm^3]')\n",
    "Y2A2= Y2* area2\n",
    "print ('Y2A2: ', Y2A2, '[mm^3]')"
   ]
  },
  {
   "cell_type": "code",
   "execution_count": 3,
   "id": "baddc433",
   "metadata": {},
   "outputs": [
    {
     "name": "stdout",
     "output_type": "stream",
     "text": [
      "Coordenada em x da região 3:  5.833333333333333 [mm]\n",
      "Coordenada em y da região 3:  21.666666666666668 [mm]\n",
      "Área da região 3: -12.5 [mm^2]\n",
      "X3A3:  -72.91666666666666 [mm^3]\n",
      "Y3A3:  -270.83333333333337 [mm^3]\n"
     ]
    }
   ],
   "source": [
    "#Região 3 (Triângulo)- área substrativa\n",
    "\n",
    "b=5\n",
    "h=5\n",
    "\n",
    "X3 = (2/3)*b+2.5\n",
    "print ('Coordenada em x da região 3: ', X3, '[mm]')\n",
    "Y3 = h/3 + 20\n",
    "print ('Coordenada em y da região 3: ', Y3, '[mm]')\n",
    "area3= -((b*h)/2)\n",
    "print ('Área da região 3:', area3, '[mm^2]')\n",
    "X3A3= X3* area3\n",
    "print ('X3A3: ', X3A3, '[mm^3]')\n",
    "Y3A3= Y3* area3\n",
    "print ('Y3A3: ', Y3A3, '[mm^3]')"
   ]
  },
  {
   "cell_type": "code",
   "execution_count": 4,
   "id": "5c501c1d",
   "metadata": {},
   "outputs": [
    {
     "name": "stdout",
     "output_type": "stream",
     "text": [
      "Coordenada em x da região 4:  5.0 [mm]\n",
      "Coordenada em y da região 4:  30.0 [mm]\n",
      "Área da região 4: -25 [mm^2]\n",
      "X4A4:  -125.0 [mm^3]\n",
      "Y4A4:  -750.0 [mm^3]\n"
     ]
    }
   ],
   "source": [
    "#Região 4 (Quadrado)- área substrativa\n",
    "\n",
    "l=5\n",
    "\n",
    "X4 = (l/2)+2.5\n",
    "print ('Coordenada em x da região 4: ', X4, '[mm]')\n",
    "Y4 = l/2 + 27.5\n",
    "print ('Coordenada em y da região 4: ', Y4, '[mm]')\n",
    "area4= -(l*l)\n",
    "print ('Área da região 4:', area4, '[mm^2]')\n",
    "X4A4= X4* area4\n",
    "print ('X4A4: ', X4A4, '[mm^3]')\n",
    "Y4A4= Y4* area4\n",
    "print ('Y4A4: ', Y4A4, '[mm^3]')"
   ]
  },
  {
   "cell_type": "code",
   "execution_count": 5,
   "id": "b3b482cf",
   "metadata": {},
   "outputs": [
    {
     "name": "stdout",
     "output_type": "stream",
     "text": [
      "Coordenada em x da região 5:  5.0 [mm]\n",
      "Coordenada em y da região 5:  20.0 [mm]\n",
      "Área da região 5: 400 [mm^2]\n",
      "X5A5:  2000.0 [mm^3]\n",
      "Y5A5:  8000.0 [mm^3]\n"
     ]
    }
   ],
   "source": [
    "#Região 5 (Retângulo Vertical)- área aditiva\n",
    "\n",
    "l1=10\n",
    "h1=40\n",
    "\n",
    "X5 = l1/2\n",
    "print ('Coordenada em x da região 5: ', X5, '[mm]')\n",
    "Y5 = h1/2\n",
    "print ('Coordenada em y da região 5: ', Y5, '[mm]')\n",
    "area5= l1*h1\n",
    "print ('Área da região 5:', area5, '[mm^2]')\n",
    "X5A5= X5* area5\n",
    "print ('X5A5: ', X5A5, '[mm^3]')\n",
    "Y5A5= Y5* area5\n",
    "print ('Y5A5: ', Y5A5, '[mm^3]')"
   ]
  },
  {
   "cell_type": "code",
   "execution_count": 6,
   "id": "35d8bc48",
   "metadata": {},
   "outputs": [
    {
     "name": "stdout",
     "output_type": "stream",
     "text": [
      "Coordenada em x da região 6:  15.0 [mm]\n",
      "Coordenada em y da região 6:  42.5 [mm]\n",
      "Área da região 6: 150 [mm^2]\n",
      "X6A6:  2250.0 [mm^3]\n",
      "Y6A6:  6375.0 [mm^3]\n"
     ]
    }
   ],
   "source": [
    "#Região 6 (Retângulo Horizontal)- área aditiva\n",
    "\n",
    "l2=30\n",
    "h2=5\n",
    "h3=40\n",
    "\n",
    "X6 = l2/2\n",
    "print ('Coordenada em x da região 6: ', X6, '[mm]')\n",
    "Y6 = (h2/2)+h3\n",
    "print ('Coordenada em y da região 6: ', Y6, '[mm]')\n",
    "area6= l2*h2\n",
    "print ('Área da região 6:', area6, '[mm^2]')\n",
    "X6A6= X6* area6\n",
    "print ('X6A6: ', X6A6, '[mm^3]')\n",
    "Y6A6= Y6* area6\n",
    "print ('Y6A6: ', Y6A6, '[mm^3]')"
   ]
  },
  {
   "cell_type": "code",
   "execution_count": 7,
   "id": "a19730fe",
   "metadata": {},
   "outputs": [
    {
     "name": "stdout",
     "output_type": "stream",
     "text": [
      "A área definida pela função é de: 2250 [mm^2]\n",
      "x*da1 =  30375 [mm^3]\n",
      "y*da1 =  87075 [mm^3]\n",
      "A coodenada X do centroide definido pela função é: 27/2 [mm]\n",
      "A coodenada Y do centroide definido pela função é: 387/10 [mm]\n",
      "A área da região 7.1 é: -1350 [mm^2]\n",
      "A coordenada em X do centroide da região 7.1 é: 15.0 [mm]\n",
      "A coordenada em Y do centroide da região 7.1 é: 22.5 [mm]\n",
      "X7_1A7_1: -20250.0 [mm^3]\n",
      "Y7_1A7_1: -30375.0 [mm^3]\n",
      "Área da região 7: 900 [mm^2]\n",
      "XA da região 7: 10125.0000000000 [mm^3]\n",
      "YA da região 7: 56700.0000000000 [mm^3]\n",
      "Coordenada X da região 7: 11.2500000000000 [mm]\n",
      "Coordenada Y da região 7: 63.0000000000000 [mm]\n"
     ]
    },
    {
     "data": {
      "image/png": "[encoded data removed]",
      "text/plain": [
       "<Figure size 432x288 with 1 Axes>"
      ]
     },
     "metadata": {
      "needs_background": "light"
     },
     "output_type": "display_data"
    }
   ],
   "source": [
    "#Integração da região 7\n",
    "\n",
    "%matplotlib inline\n",
    "import matplotlib.pyplot as plt\n",
    "import numpy as np\n",
    "import sympy as sy\n",
    "x=np.linspace(0,30,1000)\n",
    "def h(x):return (-x**2/20)+90\n",
    "\n",
    "plt.plot(x, h(x)) \n",
    "plt.fill_between(x, h(x), where = [(x > 0) and (x < 30) for x in x], color = 'green', alpha = 0.3)\n",
    "x = sy.Symbol('x')\n",
    "y = sy.Symbol('y') \n",
    "\n",
    "area_funcao7 = sy.integrate( h(x), (x,0,30))\n",
    "print ('A área definida pela função é de:',area_funcao7, '[mm^2]')\n",
    "\n",
    "xel1 = x\n",
    "yel1 = y/2\n",
    "\n",
    "# calcular xel*da\n",
    "def h1(x):return h(x)*x\n",
    "b1 = sy.integrate(h1(x), (x,0,30))\n",
    "print ('x*da1 = ',b1, '[mm^3]' )\n",
    "\n",
    "# calcular yel*da\n",
    "def h2(x):return h(x)/2 * h(x)\n",
    "c1 = sy.integrate(h2(x), (x,0,30))\n",
    "print ('y*da1 = ',c1,'[mm^3]')\n",
    "\n",
    "#Calcular coordenadas do centroide da função \n",
    "X1 = b1/area_funcao7\n",
    "print ('A coodenada X do centroide definido pela função é:', X1,'[mm]')\n",
    "Y1 = c1/area_funcao7\n",
    "print ('A coodenada Y do centroide definido pela função é:', Y1, '[mm]')\n",
    "\n",
    "#De modo a saber a area definida pela função no contexto do problema temos de subtrair o \n",
    "# retângulo (7.1) de altura 45 mm e largura 30 mm.\n",
    "\n",
    "#Calculo da área do retângulo- região 7.1\n",
    "\n",
    "l7_1=30\n",
    "h7_1=45\n",
    "\n",
    "area_retangulo7_1 = -l7_1*h7_1\n",
    "print ('A área da região 7.1 é:', area_retangulo7_1, '[mm^2]')\n",
    "\n",
    "#Calculo das coordenadas do centroide do retangulo, XA e YA\n",
    "X7_1=l7_1/2\n",
    "print ('A coordenada em X do centroide da região 7.1 é:', X7_1, '[mm]')\n",
    "Y7_1 =h7_1/2\n",
    "print ('A coordenada em Y do centroide da região 7.1 é:', Y7_1, '[mm]')\n",
    "X7_1A7_1=X7_1*area_retangulo7_1\n",
    "print ('X7_1A7_1:',X7_1A7_1, '[mm^3]')\n",
    "Y7_1A7_1=Y7_1*area_retangulo7_1\n",
    "print ('Y7_1A7_1:',Y7_1A7_1, '[mm^3]')\n",
    "\n",
    "#Somatório das áreas e XA, YA entre o retângulo e a função \n",
    "area7= area_funcao7 + area_retangulo7_1\n",
    "print('Área da região 7:', area7, '[mm^2]')\n",
    "XA_final7= X7_1A7_1 + b1\n",
    "print('XA da região 7:',XA_final7, '[mm^3]')\n",
    "YA_final7= Y7_1A7_1 + c1\n",
    "print('YA da região 7:',YA_final7, '[mm^3]')\n",
    "\n",
    "#Coordenadas finais do centroide da região 7\n",
    "X7 = XA_final7/area7\n",
    "print('Coordenada X da região 7:', X7, '[mm]')\n",
    "Y7 = YA_final7/area7\n",
    "print('Coordenada Y da região 7:', Y7, '[mm]')"
   ]
  },
  {
   "cell_type": "code",
   "execution_count": 8,
   "id": "a85e0671",
   "metadata": {},
   "outputs": [
    {
     "name": "stdout",
     "output_type": "stream",
     "text": [
      "Coordenada em x da região 8:  20.0 [mm]\n",
      "Coordenada em y da região 8:  35.755868184216126 [mm]\n",
      "Área da região 8: 157.07963267948966 [mm^2]\n",
      "X8A8:  3141.5926535897934 [mm^3]\n",
      "Y8A8:  5616.51864051292 [mm^3]\n"
     ]
    }
   ],
   "source": [
    "#Região 8 (Semicírculo)- área aditiva\n",
    "\n",
    "l3=20\n",
    "h3=40\n",
    "r2=10\n",
    "\n",
    "X8 = (l3/2)+10\n",
    "print ('Coordenada em x da região 8: ', X8, '[mm]')\n",
    "Y8 = h3-4*r2/(3*math.pi)\n",
    "print ('Coordenada em y da região 8: ', Y8, '[mm]')\n",
    "area8=(math.pi*r2**2)/2\n",
    "print ('Área da região 8:', area8, '[mm^2]')\n",
    "X8A8= X8* area8\n",
    "print ('X8A8: ', X8A8, '[mm^3]')\n",
    "Y8A8= Y8* area8\n",
    "print ('Y8A8: ', Y8A8, '[mm^3]')"
   ]
  },
  {
   "cell_type": "code",
   "execution_count": 9,
   "id": "79e1258f",
   "metadata": {},
   "outputs": [
    {
     "name": "stdout",
     "output_type": "stream",
     "text": [
      "A área definida pela função é de: 16.6666666666667 [mm^2]\n",
      "x*da =  291.666666666667 [mm^3]\n",
      "y*da =  25.0000000000005 [mm^3]\n",
      "A coodenada X do centroide definido pela função é: 17.5000000000000 [mm]\n",
      "A coodenada Y do centroide definido pela função é: 1.50000000000003 [mm]\n",
      "A área da região 9.1 é: 50 [mm^2]\n",
      "A coordenada em X do centroide da região 9.1 é: 15.0 [mm]\n",
      "A coordenada em Y do centroide da região 9.1 é: 2.5 [mm]\n",
      "X9_1A9_1: 750.0 [mm^3]\n",
      "Y9_1A9_1: 125.0 [mm^3]\n",
      "Área da região 9: 33.3333333333333 [mm^2]\n",
      "XA da região 9: 458.333333333333 [mm^3]\n",
      "YA da região 9: 99.9999999999995 [mm^3]\n",
      "Coordenada X da região 9: 13.7500000000000 [mm]\n",
      "Coordenada Y da região 9: 2.99999999999999 [mm]\n"
     ]
    },
    {
     "data": {
      "image/png": "[encoded data removed]",
      "text/plain": [
       "<Figure size 432x288 with 1 Axes>"
      ]
     },
     "metadata": {
      "needs_background": "light"
     },
     "output_type": "display_data"
    }
   ],
   "source": [
    "#Integração região 9\n",
    "\n",
    "x=np.linspace(5,25,1000)\n",
    "def f(x):return 0.05*(x-10)**2\n",
    "\n",
    "plt.plot(x,f(x))\n",
    "plt.axhline(color = 'blue') \n",
    "plt.fill_between(x, f(x), where = [(x > 10) and (x < 20) for x in x], color = 'cyan', alpha = 0.3)\n",
    "\n",
    "x = sy.Symbol('x')\n",
    "y = sy.Symbol('y') \n",
    "\n",
    "area_funcao = sy.integrate(f(x), (x,10,20))\n",
    "print ('A área definida pela função é de:',area_funcao, '[mm^2]')\n",
    "\n",
    "# calcular xel*da e yel*da\n",
    "xel = x\n",
    "yel = y/2\n",
    "#da=y*dx\n",
    "\n",
    "# calcular xel*da\n",
    "def f1(x):return f(x)*x\n",
    "b = sy.integrate(f1(x), (x,10,20))\n",
    "print ('x*da = ',b, '[mm^3]' )\n",
    "\n",
    "# calcular yel*da\n",
    "def f2(x):return f(x)/2 * f(x)\n",
    "c = sy.integrate(f2(x), (x,10,20))\n",
    "print ('y*da = ',c,'[mm^3]')\n",
    "\n",
    "#Calcular coordenadas do centroide da função \n",
    "X = b/area_funcao\n",
    "print ('A coodenada X do centroide definido pela função é:', X,'[mm]')\n",
    "Y = c/area_funcao\n",
    "print ('A coodenada Y do centroide definido pela função é:', Y, '[mm]')\n",
    "\n",
    "# Tendo em conta que a área obtida é a área debaixo da função, considerámo-la como sendo subtrativa e \n",
    "#deste modo consideramos a áera do retângulo como uma área aditiva.\n",
    "\n",
    "#Calculo da área do retângulo- região 9.1\n",
    "h9_1=5\n",
    "l9_1=10\n",
    "\n",
    "area_retangulo9_1 = h9_1*l9_1\n",
    "print ('A área da região 9.1 é:', area_retangulo9_1, '[mm^2]')\n",
    "\n",
    "#Calculo das coordenadas do centroide do retangulo, XA e YA\n",
    "X9_1= 10 + (l9_1/2)\n",
    "print ('A coordenada em X do centroide da região 9.1 é:', X9_1, '[mm]')\n",
    "Y9_1 = h9_1/2\n",
    "print ('A coordenada em Y do centroide da região 9.1 é:', Y9_1, '[mm]')\n",
    "X9_1A9_1 = X9_1 * area_retangulo9_1\n",
    "print ('X9_1A9_1:',X9_1A9_1, '[mm^3]')\n",
    "Y9_1A9_1 = Y9_1 * area_retangulo9_1\n",
    "print ('Y9_1A9_1:',Y9_1A9_1, '[mm^3]')\n",
    "\n",
    "#Somatório das áreas e XA, YA entre o retângulo e a função \n",
    "area9= area_retangulo9_1 + (-area_funcao)\n",
    "print('Área da região 9:', area9, '[mm^2]')\n",
    "XA_final9= X9_1A9_1 + (-b)\n",
    "print('XA da região 9:',XA_final9, '[mm^3]')\n",
    "YA_final9= Y9_1A9_1 + (-c)\n",
    "print('YA da região 9:',YA_final9, '[mm^3]')\n",
    "\n",
    "#Coordenadas finais do centroide da região 9\n",
    "X9 = XA_final9/area9\n",
    "print('Coordenada X da região 9:', X9, '[mm]')\n",
    "Y9 = YA_final9/area9\n",
    "print('Coordenada Y da região 9:', Y9, '[mm]')\n"
   ]
  },
  {
   "cell_type": "code",
   "execution_count": 10,
   "id": "6e7ab704",
   "metadata": {
    "scrolled": true
   },
   "outputs": [
    {
     "name": "stdout",
     "output_type": "stream",
     "text": [
      "A área final da figura é: 1544.00810375801 [mm^2]\n",
      "XA final da figura é: 17482.4850089824 [mm^3]\n",
      "YA final da figura é: 75441.9150477846 [mm^3]\n",
      "A coordenada do centroide da figura em X: 11.3227935568675 [mm]\n",
      "A coordenada do centroide da figura em Y: 48.8610874931057 [mm]\n",
      "O volume de revolução da figura é: 474015.532173730 [mm^3]\n"
     ]
    }
   ],
   "source": [
    "#Somatório das Áreas\n",
    "area_final=area1+area2+area3+area4+area5+area6+area7+area8+area9\n",
    "print('A área final da figura é:',area_final ,'[mm^2]')\n",
    "\n",
    "#Somatório do XA\n",
    "somatorio_XA_final=X1A1+X2A2+X3A3+X4A4+X5A5+X6A6+XA_final7+X8A8+XA_final9\n",
    "print('XA final da figura é:',somatorio_XA_final, '[mm^3]')\n",
    "\n",
    "#Somatório do YA\n",
    "somatorio_YA_final=Y1A1+Y2A2+Y3A3+Y4A4+Y5A5+Y6A6+YA_final7+Y8A8+YA_final9\n",
    "print('YA final da figura é:',somatorio_YA_final, '[mm^3]')\n",
    "\n",
    "#Coordenada do centroide da figura em X\n",
    "X_final=somatorio_XA_final/area_final\n",
    "print('A coordenada do centroide da figura em X:', X_final, '[mm]')\n",
    "\n",
    "#Coordenada do centroide da figura em Y\n",
    "Y_final=somatorio_YA_final/area_final\n",
    "print('A coordenada do centroide da figura em Y:', Y_final, '[mm]')\n",
    "\n",
    "#Volume de revolução da figura\n",
    "volume_revolucao=2*math.pi*Y_final*area_final\n",
    "print('O volume de revolução da figura é:',volume_revolucao,'[mm^3]')"
   ]
  }
 ],
 "metadata": {
  "kernelspec": {
   "display_name": "Python 3 (ipykernel)",
   "language": "python",
   "name": "python3"
  },
  "language_info": {
   "codemirror_mode": {
    "name": "ipython",
    "version": 3
   },
   "file_extension": ".py",
   "mimetype": "text/x-python",
   "name": "python",
   "nbconvert_exporter": "python",
   "pygments_lexer": "ipython3",
   "version": "3.9.12"
  }
 },
 "nbformat": 4,
 "nbformat_minor": 5
}
